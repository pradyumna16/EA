{
 "cells": [
  {
   "cell_type": "code",
   "execution_count": 83,
   "metadata": {},
   "outputs": [],
   "source": [
    "import pandas as pd\n",
    "\n",
    "df = pd.read_csv(\"Bugs.csv\")"
   ]
  },
  {
   "cell_type": "code",
   "execution_count": 84,
   "metadata": {},
   "outputs": [
    {
     "data": {
      "text/html": [
       "<div>\n",
       "<style scoped>\n",
       "    .dataframe tbody tr th:only-of-type {\n",
       "        vertical-align: middle;\n",
       "    }\n",
       "\n",
       "    .dataframe tbody tr th {\n",
       "        vertical-align: top;\n",
       "    }\n",
       "\n",
       "    .dataframe thead th {\n",
       "        text-align: right;\n",
       "    }\n",
       "</style>\n",
       "<table border=\"1\" class=\"dataframe\">\n",
       "  <thead>\n",
       "    <tr style=\"text-align: right;\">\n",
       "      <th></th>\n",
       "      <th>SourceTimeZone</th>\n",
       "      <th>ProjectId</th>\n",
       "      <th>BugId</th>\n",
       "      <th>IssueType</th>\n",
       "      <th>Priority</th>\n",
       "      <th>Severity</th>\n",
       "      <th>PlatformFound</th>\n",
       "      <th>GameArea</th>\n",
       "      <th>TestTeam</th>\n",
       "      <th>CreatedTime_Local</th>\n",
       "      <th>CreatedTime_UTC</th>\n",
       "      <th>EstimatedBugFind</th>\n",
       "      <th>AssignedTime_Local</th>\n",
       "      <th>AssignedTime_UTC</th>\n",
       "    </tr>\n",
       "  </thead>\n",
       "  <tbody>\n",
       "    <tr>\n",
       "      <th>0</th>\n",
       "      <td>Pacific Standard Time</td>\n",
       "      <td>1519</td>\n",
       "      <td>10001</td>\n",
       "      <td>MD (Milestone Deliverable)</td>\n",
       "      <td>NaN</td>\n",
       "      <td>NaN</td>\n",
       "      <td>Common</td>\n",
       "      <td>GAA</td>\n",
       "      <td>TT1</td>\n",
       "      <td>12:20 PM 4-3-2015</td>\n",
       "      <td>7:20 PM 4-3-2015</td>\n",
       "      <td>NaN</td>\n",
       "      <td>4:16 PM 5-1-2015</td>\n",
       "      <td>11:16 PM 5-1-2015</td>\n",
       "    </tr>\n",
       "    <tr>\n",
       "      <th>1</th>\n",
       "      <td>Pacific Standard Time</td>\n",
       "      <td>1519</td>\n",
       "      <td>10002</td>\n",
       "      <td>MD (Milestone Deliverable)</td>\n",
       "      <td>NaN</td>\n",
       "      <td></td>\n",
       "      <td>Common</td>\n",
       "      <td>GAA</td>\n",
       "      <td>TT1</td>\n",
       "      <td>12:21 PM 4-3-2015</td>\n",
       "      <td>7:21 PM 4-3-2015</td>\n",
       "      <td>NaN</td>\n",
       "      <td>4:16 PM 5-1-2015</td>\n",
       "      <td>11:16 PM 5-1-2015</td>\n",
       "    </tr>\n",
       "    <tr>\n",
       "      <th>2</th>\n",
       "      <td>Pacific Standard Time</td>\n",
       "      <td>1519</td>\n",
       "      <td>10003</td>\n",
       "      <td>MD (Milestone Deliverable)</td>\n",
       "      <td>NaN</td>\n",
       "      <td></td>\n",
       "      <td>Common</td>\n",
       "      <td>GAA</td>\n",
       "      <td>TT1</td>\n",
       "      <td>12:21 PM 4-3-2015</td>\n",
       "      <td>7:21 PM 4-3-2015</td>\n",
       "      <td>NaN</td>\n",
       "      <td>4:16 PM 5-1-2015</td>\n",
       "      <td>11:16 PM 5-1-2015</td>\n",
       "    </tr>\n",
       "    <tr>\n",
       "      <th>3</th>\n",
       "      <td>Pacific Standard Time</td>\n",
       "      <td>1519</td>\n",
       "      <td>10004</td>\n",
       "      <td>PR - Problem Report</td>\n",
       "      <td>3 - High</td>\n",
       "      <td>C</td>\n",
       "      <td>Common</td>\n",
       "      <td>GAB</td>\n",
       "      <td>TT2</td>\n",
       "      <td>12:21 PM 4-3-2015</td>\n",
       "      <td>7:21 PM 4-3-2015</td>\n",
       "      <td>NaN</td>\n",
       "      <td>7:37 AM 5-22-2015</td>\n",
       "      <td>2:37 PM 5-22-2015</td>\n",
       "    </tr>\n",
       "    <tr>\n",
       "      <th>4</th>\n",
       "      <td>Pacific Standard Time</td>\n",
       "      <td>1519</td>\n",
       "      <td>10005</td>\n",
       "      <td>PR - Problem Report</td>\n",
       "      <td>NaN</td>\n",
       "      <td>C</td>\n",
       "      <td>PC</td>\n",
       "      <td>GAC</td>\n",
       "      <td>TT3</td>\n",
       "      <td>12:28 PM 4-3-2015</td>\n",
       "      <td>7:28 PM 4-3-2015</td>\n",
       "      <td>NaN</td>\n",
       "      <td>11:31 AM 5-28-2015</td>\n",
       "      <td>6:31 PM 5-28-2015</td>\n",
       "    </tr>\n",
       "  </tbody>\n",
       "</table>\n",
       "</div>"
      ],
      "text/plain": [
       "          SourceTimeZone  ProjectId  BugId                   IssueType  \\\n",
       "0  Pacific Standard Time       1519  10001  MD (Milestone Deliverable)   \n",
       "1  Pacific Standard Time       1519  10002  MD (Milestone Deliverable)   \n",
       "2  Pacific Standard Time       1519  10003  MD (Milestone Deliverable)   \n",
       "3  Pacific Standard Time       1519  10004         PR - Problem Report   \n",
       "4  Pacific Standard Time       1519  10005         PR - Problem Report   \n",
       "\n",
       "   Priority Severity PlatformFound GameArea TestTeam  CreatedTime_Local  \\\n",
       "0       NaN      NaN        Common      GAA      TT1  12:20 PM 4-3-2015   \n",
       "1       NaN                 Common      GAA      TT1  12:21 PM 4-3-2015   \n",
       "2       NaN                 Common      GAA      TT1  12:21 PM 4-3-2015   \n",
       "3  3 - High        C        Common      GAB      TT2  12:21 PM 4-3-2015   \n",
       "4       NaN        C            PC      GAC      TT3  12:28 PM 4-3-2015   \n",
       "\n",
       "    CreatedTime_UTC  EstimatedBugFind  AssignedTime_Local   AssignedTime_UTC  \n",
       "0  7:20 PM 4-3-2015               NaN    4:16 PM 5-1-2015  11:16 PM 5-1-2015  \n",
       "1  7:21 PM 4-3-2015               NaN    4:16 PM 5-1-2015  11:16 PM 5-1-2015  \n",
       "2  7:21 PM 4-3-2015               NaN    4:16 PM 5-1-2015  11:16 PM 5-1-2015  \n",
       "3  7:21 PM 4-3-2015               NaN   7:37 AM 5-22-2015  2:37 PM 5-22-2015  \n",
       "4  7:28 PM 4-3-2015               NaN  11:31 AM 5-28-2015  6:31 PM 5-28-2015  "
      ]
     },
     "execution_count": 84,
     "metadata": {},
     "output_type": "execute_result"
    }
   ],
   "source": [
    "df.head()"
   ]
  },
  {
   "cell_type": "code",
   "execution_count": 86,
   "metadata": {},
   "outputs": [
    {
     "data": {
      "text/plain": [
       "100"
      ]
     },
     "execution_count": 86,
     "metadata": {},
     "output_type": "execute_result"
    }
   ],
   "source": [
    "df['BugId'].nunique()"
   ]
  },
  {
   "cell_type": "code",
   "execution_count": 81,
   "metadata": {},
   "outputs": [],
   "source": [
    "import numpy as np\n",
    "df1=df[df['IssueType']=='PR - Problem Report']\n",
    "df1=df1[pd.isnull(df1['Priority'])]"
   ]
  },
  {
   "cell_type": "code",
   "execution_count": 82,
   "metadata": {},
   "outputs": [
    {
     "data": {
      "text/plain": [
       "(40, 14)"
      ]
     },
     "execution_count": 82,
     "metadata": {},
     "output_type": "execute_result"
    }
   ],
   "source": [
    "df1.shape"
   ]
  },
  {
   "cell_type": "markdown",
   "metadata": {},
   "source": [
    "## 1. a) Please provide the SQL query that would accurately join the provided tables: ‘Bugs’, ‘BugTracking’, and ‘ProgressStatusLookup’"
   ]
  },
  {
   "cell_type": "markdown",
   "metadata": {},
   "source": [
    "select SourceTimeZone, b.ProjectId, b.BugId, IssueType, Priority, Severity, PlatformFound, GameArea, \n",
    "TestTeam, CreatedTime_Local, CreatedTime_UTC, EstimatedBugFind, AssignedTime_Local, AssignedTime_UTC,\n",
    "SequenceNo,DateAssigned,Game_Area, ProgressStatusName,ProgressStatusID\n",
    "from Bugs b \n",
    "inner join BugTracking bt \n",
    "on b.BugId=bt.BugID\n",
    "inner join ProgressStatusLookup pr \n",
    "on b.ProjectId=pr.ProjectID AND safe_cast(bt.Progress_Status_ID AS NUMERIC)=pr.ProgressStatusID"
   ]
  },
  {
   "cell_type": "markdown",
   "metadata": {},
   "source": [
    "## 1.b) How many distinct bugs with an ‘In Progress’ progress status exist in this joined table?"
   ]
  },
  {
   "cell_type": "markdown",
   "metadata": {},
   "source": [
    "with joinedtables as \n",
    "\n",
    "(select SourceTimeZone, b.ProjectId, b.BugId, IssueType, Priority, Severity, PlatformFound, GameArea, \n",
    "TestTeam, CreatedTime_Local, CreatedTime_UTC, EstimatedBugFind, AssignedTime_Local, AssignedTime_UTC,\n",
    "SequenceNo,DateAssigned,Game_Area, ProgressStatusName,ProgressStatusID\n",
    "from EASports.Bugs b \n",
    "inner join EASports.BugTracking bt \n",
    "on b.BugId=bt.BugID\n",
    "inner join EASports.ProgressStatusLookup pr \n",
    "on b.ProjectId=pr.ProjectID AND safe_cast(bt.Progress_Status_ID AS NUMERIC)=pr.ProgressStatusID)\n",
    "\n",
    "select count(distinct BugId) as totalbugs\n",
    "from joinedtables\n",
    "where ProgressStatusName= \"In Progress\"\n",
    "group by ProgressStatusName\n",
    "\n",
    "Answer:- 45"
   ]
  },
  {
   "cell_type": "markdown",
   "metadata": {},
   "source": [
    "## 1c) How many distinct bugs have a null value in either the ProgressStatusName or Priority field in the joined table? "
   ]
  },
  {
   "cell_type": "markdown",
   "metadata": {},
   "source": [
    "with joinedtables as\n",
    "(\n",
    "select SourceTimeZone, b.ProjectId, b.BugId, IssueType, Priority, Severity, PlatformFound, GameArea, \n",
    "TestTeam, CreatedTime_Local, CreatedTime_UTC, EstimatedBugFind, AssignedTime_Local, AssignedTime_UTC,\n",
    "SequenceNo,DateAssigned,Game_Area, ProgressStatusName,ProgressStatusID\n",
    "from Bugs b \n",
    "inner join BugTracking bt \n",
    "on b.BugId=bt.BugID\n",
    "inner join ProgressStatusLookup pr \n",
    "on b.ProjectId=pr.ProjectID AND safe_cast(bt.Progress_Status_ID AS NUMERIC)=pr.ProgressStatusID\n",
    ")\n",
    "\n",
    "select count(distinct BugId) as totalbugs\n",
    "from joinedtables\n",
    "where (ProgressStatusName = 'NULL' or Priority= 'NULL')\n",
    "\n",
    "\n",
    "-- Answer- 57"
   ]
  },
  {
   "cell_type": "markdown",
   "metadata": {},
   "source": [
    "## 1 d) i)What is the average Open Bug Life for each Severity Level?\n",
    "\n",
    "\n",
    "with table0 as \n",
    "(select Severity, BugId,DATETIME_DIFF(min(PARSE_DATETIME('%I:%M %p %m-%d-%Y',DateAssigned)), min(PARSE_DATETIME('%I:%M %p %m-%d-%Y',CreatedTime_local)), day) Days\n",
    "from joinedtables\n",
    "where ProgressStatusName like \"%Closed%\" and (Severity ='A' or Severity = 'B' or Severity ='C' or Severity='D')\n",
    "group by Severity, BugId\n",
    "order by BugId\n",
    ")\n",
    "\n",
    "select Severity, sum(Days)/count(*)avg_days\n",
    "from table0\n",
    "group by Severity\n",
    "\n",
    "Answer -A"
   ]
  },
  {
   "cell_type": "markdown",
   "metadata": {},
   "source": [
    "## 1 -d- ii) Within the \"PR - Problem Report\" Issue Type in the table, how many null Priority values are there?"
   ]
  },
  {
   "cell_type": "markdown",
   "metadata": {},
   "source": [
    "with table1 as\n",
    "(\n",
    "select SourceTimeZone, b.ProjectId, b.BugId, IssueType, Priority, Severity, PlatformFound, GameArea, \n",
    "TestTeam, CreatedTime_Local, CreatedTime_UTC, EstimatedBugFind, AssignedTime_Local, AssignedTime_UTC,\n",
    "SequenceNo,DateAssigned,Game_Area, ProgressStatusName,ProgressStatusID\n",
    "from Bugs b \n",
    "inner join BugTracking bt \n",
    "on b.BugId=bt.BugID\n",
    "inner join ProgressStatusLookup pr \n",
    "on b.ProjectId=pr.ProjectID AND safe_cast(bt.Progress_Status_ID AS NUMERIC)=pr.ProgressStatusID\n",
    ")\n",
    "\n",
    "select COUNT(distinct BugId) as total\n",
    "from table1\n",
    "where IssueType= 'PR - Problem Report' AND Priority= 'NULL'\n",
    "\n",
    "Answer: 40"
   ]
  },
  {
   "cell_type": "markdown",
   "metadata": {},
   "source": [
    "## 1-d-iii) Which Test Team found the most Severity = \"B\" bugs, in the Bugs table?"
   ]
  },
  {
   "cell_type": "code",
   "execution_count": null,
   "metadata": {},
   "outputs": [],
   "source": [
    "select count(*) total, TestTeam\n",
    "from Bugs\n",
    "where severity=\"B\"\n",
    "group by severity, TestTeam\n",
    "\n",
    "Answer: TT5 with 18 "
   ]
  },
  {
   "cell_type": "code",
   "execution_count": null,
   "metadata": {},
   "outputs": [],
   "source": []
  },
  {
   "cell_type": "markdown",
   "metadata": {},
   "source": [
    "## 2 - KPI 2: Open Bug Life – The number of days that have passed from the day a bug is opened until the first time it is closed."
   ]
  },
  {
   "cell_type": "code",
   "execution_count": null,
   "metadata": {},
   "outputs": [],
   "source": []
  },
  {
   "cell_type": "markdown",
   "metadata": {},
   "source": [
    "## Make a graph out of it\n",
    "\n",
    "with table0 as \n",
    "(select BugId,DATETIME_DIFF(PARSE_DATETIME('%I:%M %p %m-%d-%Y',DateAssigned), PARSE_DATETIME('%I:%M %p %m-%d-%Y',CreatedTime_Local), DAY) Days\n",
    "from joinedtables\n",
    "where ProgressStatusName like \"%Closed%\"\n",
    "order by BugId)\n",
    "select BugId, count(*) number_of_bugs, sum(days)/count(*) avg_days\n",
    "from table0\n",
    "group by BugId"
   ]
  },
  {
   "cell_type": "markdown",
   "metadata": {},
   "source": [
    "## 3-a)\tThe event_name field indicates which action the player is performing. What is this particular player’s overall shot to score ratio? Please explain your methodology.\n",
    "\n",
    "- **Methodology** : Created two CTE - first one contains total no of times the player action was *shot*\n",
    "and the second one contains total no of times the player action was *score*. Finally divided the value from each outcome to find the ratio"
   ]
  },
  {
   "cell_type": "code",
   "execution_count": null,
   "metadata": {},
   "outputs": [],
   "source": [
    "with tableshot as (\n",
    "select event_name, count(*) total\n",
    "from EASports.SinglePlayerPondDataset\n",
    "where event_name=\"shot\"\n",
    "group by event_name\n",
    ")\n",
    ",tablescore as \n",
    "(\n",
    "select event_name, count(*) total\n",
    "from EASports.SinglePlayerPondDataset\n",
    "where event_name=\"score\"\n",
    "group by event_name\n",
    ")\n",
    "\n",
    "select (tableshot.total/tablescore.total) as ratio\n",
    "from tableshot, tablescore\n"
   ]
  },
  {
   "cell_type": "markdown",
   "metadata": {},
   "source": [
    "## 3B- There is additional information about the pass event in the event_params field. Create a visualization showing the overall breakdown of the different pass types that the player performed. \n",
    "\n",
    "- **Methodology**: \n",
    "\n",
    "Used python and Pyspark(to make sql queries in python easier) both for this case. \n",
    "- Loaded the *Single Player Pond Dataset.csv* file in pandas dataframe and then converted into pyspark to perform sql queries. \n",
    "- selected the event_params of event_name = pass and then performed operations to convert the event_params into json and then to dictionary to find the different types of pass from the attribute *type*.\n",
    "- Finally the frequency of each pass type from event_params is calculated and plotted in bar chart."
   ]
  },
  {
   "cell_type": "code",
   "execution_count": 91,
   "metadata": {},
   "outputs": [],
   "source": [
    "import findspark\n",
    "findspark.init()\n",
    "import pyspark\n",
    "\n",
    "from pyspark.sql import SparkSession\n",
    "from pyspark.conf import SparkConf\n",
    "import pyspark.sql.functions as sqlfunc\n",
    "from pyspark.sql.types import *\n",
    "import argparse, sys\n",
    "from pyspark.sql import *\n",
    "import pandas as pd\n",
    "from pyspark.sql import SQLContext"
   ]
  },
  {
   "cell_type": "code",
   "execution_count": 278,
   "metadata": {},
   "outputs": [],
   "source": [
    "spark = SparkSession.builder.appName('pandasToSparkDF').getOrCreate()\n",
    "df = pd.read_csv(\"Single Player Pond Dataset.csv\")\n",
    "dfspark = spark.createDataFrame(df)"
   ]
  },
  {
   "cell_type": "code",
   "execution_count": 279,
   "metadata": {},
   "outputs": [],
   "source": [
    "dfspark.registerTempTable(\"singleplayerTable\")"
   ]
  },
  {
   "cell_type": "code",
   "execution_count": 280,
   "metadata": {},
   "outputs": [
    {
     "name": "stdout",
     "output_type": "stream",
     "text": [
      "+----------+--------------------+\n",
      "|event_name|        event_params|\n",
      "+----------+--------------------+\n",
      "|      pass|{\"mid\":\"H2HS_5049...|\n",
      "|      pass|{\"mid\":\"H2HS_5049...|\n",
      "|      pass|{\"mid\":\"H2HS_5049...|\n",
      "|      pass|{\"mid\":\"H2HS_5049...|\n",
      "|      pass|{\"mid\":\"H2HS_5049...|\n",
      "|      pass|{\"mid\":\"H2HS_5049...|\n",
      "|      pass|{\"mid\":\"H2HS_5049...|\n",
      "|      pass|{\"mid\":\"H2HS_5049...|\n",
      "|      pass|{\"mid\":\"H2HS_5049...|\n",
      "|      pass|{\"mid\":\"H2HS_5049...|\n",
      "|      pass|{\"mid\":\"H2HS_5049...|\n",
      "|      pass|{\"mid\":\"H2HS_5049...|\n",
      "|      pass|{\"mid\":\"H2HS_5049...|\n",
      "|      pass|{\"mid\":\"H2HS_5049...|\n",
      "|      pass|{\"mid\":\"H2HS_5049...|\n",
      "|      pass|{\"mid\":\"H2HS_5049...|\n",
      "|      pass|{\"mid\":\"H2HS_5049...|\n",
      "|      pass|{\"mid\":\"H2HS_5049...|\n",
      "|      pass|{\"mid\":\"H2HS_5049...|\n",
      "|      pass|{\"mid\":\"H2HS_5049...|\n",
      "+----------+--------------------+\n",
      "only showing top 20 rows\n",
      "\n"
     ]
    }
   ],
   "source": [
    "query= \"\"\"\n",
    "select event_name, event_params\n",
    "from singleplayerTable\n",
    "where event_name=\"pass\"\n",
    "\n",
    "\"\"\"\n",
    "\n",
    "dffinal = spark.sql(query)\n",
    "dffinal.show()"
   ]
  },
  {
   "cell_type": "code",
   "execution_count": 96,
   "metadata": {},
   "outputs": [],
   "source": [
    "df_plot = dffinal.toPandas()"
   ]
  },
  {
   "cell_type": "code",
   "execution_count": 268,
   "metadata": {},
   "outputs": [
    {
     "data": {
      "text/plain": [
       "<matplotlib.axes._subplots.AxesSubplot at 0x24040cc3828>"
      ]
     },
     "execution_count": 268,
     "metadata": {},
     "output_type": "execute_result"
    },
    {
     "data": {
      "image/png": "[encoded data removed]",
      "text/plain": [
       "<Figure size 432x288 with 1 Axes>"
      ]
     },
     "metadata": {
      "needs_background": "light"
     },
     "output_type": "display_data"
    }
   ],
   "source": [
    "import json\n",
    "\n",
    "l = []\n",
    "for i in range(df_plot.shape[0]):\n",
    "\n",
    "    js = df_plot['event_params'][i]\n",
    "    d = json.loads(js)\n",
    "    l.append(d['type'])\n",
    "\n",
    "freq = {}\n",
    "for i in range(len(l)):\n",
    "    my_list = l[i]\n",
    "\n",
    "    if (my_list in freq): \n",
    "        freq[my_list] += 1\n",
    "    else:\n",
    "        freq[my_list] = 1\n",
    "                \n",
    "passdf = pd.DataFrame.from_dict(list(freq.items()))\n",
    "passdf.columns = ['pass_type', 'frequency']\n",
    "\n",
    "## plotting the pass name and its frequency in a bar chart\n",
    "\n",
    "# passdf.xticks(rotation=90)\n",
    "passdf.plot(kind = \"bar\",x='pass_type', y='frequency', rot=90)"
   ]
  },
  {
   "cell_type": "code",
   "execution_count": 273,
   "metadata": {},
   "outputs": [
    {
     "data": {
      "image/png": "[encoded data removed]",
      "text/plain": [
       "<Figure size 432x288 with 1 Axes>"
      ]
     },
     "metadata": {
      "needs_background": "light"
     },
     "output_type": "display_data"
    }
   ],
   "source": [
    "plt.xticks(rotation=90)\n",
    "plt.bar(passdf['pass_type'], passdf['frequency'])\n",
    "plt.savefig('Compare.png',dpi=600,bbox_inches='tight')"
   ]
  },
  {
   "cell_type": "code",
   "execution_count": 290,
   "metadata": {},
   "outputs": [],
   "source": [
    "import pandas as pd\n",
    "projectid = \"prady89-195311\"\n",
    "\n",
    "query= \"\"\"\n",
    "\n",
    "with table0 as \n",
    "(select Severity, BugId,DATETIME_DIFF(min(PARSE_DATETIME('%I:%M %p %m-%d-%Y',DateAssigned)), min(PARSE_DATETIME('%I:%M %p %m-%d-%Y',CreatedTime_local)), day) Days\n",
    "from EASports.joinedtables\n",
    "where ProgressStatusName like \"%Closed%\"\n",
    "group by Severity, BugId\n",
    "order by BugId\n",
    ")\n",
    "\n",
    "select count(*) as Number_of_bugs, Days\n",
    "from table0\n",
    "group by Days\n",
    "order by Days\n",
    "\n",
    "\"\"\"\n",
    "\n",
    "dfBugdays = pd.read_gbq(query, projectid, dialect='standard')"
   ]
  },
  {
   "cell_type": "code",
   "execution_count": 292,
   "metadata": {
    "scrolled": true
   },
   "outputs": [
    {
     "data": {
      "text/plain": [
       "<matplotlib.axes._subplots.AxesSubplot at 0x24042aece80>"
      ]
     },
     "execution_count": 292,
     "metadata": {},
     "output_type": "execute_result"
    },
    {
     "data": {
      "image/png": "[encoded data removed]",
      "text/plain": [
       "<Figure size 432x288 with 1 Axes>"
      ]
     },
     "metadata": {
      "needs_background": "light"
     },
     "output_type": "display_data"
    }
   ],
   "source": [
    "dfBugdays.plot(kind = \"bar\",x='Number_of_bugs', y='Days', rot=90)"
   ]
  },
  {
   "cell_type": "code",
   "execution_count": 294,
   "metadata": {},
   "outputs": [
    {
     "data": {
      "image/png": "[encoded data removed]",
      "text/plain": [
       "<Figure size 432x288 with 1 Axes>"
      ]
     },
     "metadata": {
      "needs_background": "light"
     },
     "output_type": "display_data"
    }
   ],
   "source": [
    "# plt.xticks(rotation=90)\n",
    "plt.bar(dfBugdays['Number_of_bugs'], dfBugdays['Days'])\n",
    "plt.savefig('Compare2.png',dpi=600,bbox_inches='tight')"
   ]
  },
  {
   "cell_type": "code",
   "execution_count": null,
   "metadata": {
    "scrolled": false
   },
   "outputs": [],
   "source": []
  },
  {
   "cell_type": "code",
   "execution_count": null,
   "metadata": {},
   "outputs": [],
   "source": []
  }
 ],
 "metadata": {
  "kernelspec": {
   "display_name": "TensorFlow-GPU",
   "language": "python",
   "name": "tf-gpu"
  },
  "language_info": {
   "codemirror_mode": {
    "name": "ipython",
    "version": 3
   },
   "file_extension": ".py",
   "mimetype": "text/x-python",
   "name": "python",
   "nbconvert_exporter": "python",
   "pygments_lexer": "ipython3",
   "version": "3.6.6"
  }
 },
 "nbformat": 4,
 "nbformat_minor": 2
}
